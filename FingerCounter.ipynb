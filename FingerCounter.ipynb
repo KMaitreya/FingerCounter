{
 "cells": [
  {
   "cell_type": "code",
   "execution_count": 21,
   "id": "111dae26",
   "metadata": {},
   "outputs": [],
   "source": [
    "#Finger counter"
   ]
  },
  {
   "cell_type": "code",
   "execution_count": 22,
   "id": "a16b49ec",
   "metadata": {},
   "outputs": [],
   "source": [
    "#importing libraries\n",
    "import cv2\n",
    "import math\n",
    "import mediapipe as mp"
   ]
  },
  {
   "cell_type": "code",
   "execution_count": 23,
   "metadata": {},
   "outputs": [],
   "source": [
    "#required variables\n",
    "thumb=\"thumb\"\n",
    "index=\"index\"\n",
    "middle=\"middle\"\n",
    "ring=\"ring\"\n",
    "pinky=\"pinky\"\n",
    "\n",
    "fingers=[]\n",
    "\n",
    "wrist_x, wrist_y=0, 0\n",
    "\n",
    "thumb_tip_x, thumb_tip_y=0, 0\n",
    "thumb_pip_x, thumb_pip_y=0, 0\n",
    "\n",
    "index_tip_x, index_tip_y=0, 0\n",
    "index_pip_x, index_pip_y=0, 0\n",
    "\n",
    "middle_tip_x, middle_tip_y=0, 0\n",
    "middle_pip_x, middle_pip_y=0, 0\n",
    "\n",
    "ring_tip_x, ring_tip_y=0, 0\n",
    "ring_pip_x, ring_pip_y=0, 0\n",
    "\n",
    "pinky_tip_x, pinky_tip_y=0, 0\n",
    "pinky_pip_x, pinky_pip_y=0, 0\n",
    "\n",
    "global cnt\n",
    "cnt=0"
   ]
  },
  {
   "cell_type": "code",
   "execution_count": 24,
   "metadata": {},
   "outputs": [],
   "source": [
    "#finger detecting function\n",
    "def fingerDetect(tip_x, tip_y, pip_x, pip_y, finger):\n",
    "    if math.dist([tip_x, tip_y], [wrist_x, wrist_y])>math.dist([pip_x, pip_y], [wrist_x, wrist_y]):\n",
    "        global cnt\n",
    "        cnt=cnt+1\n",
    "        fingers.append(finger)\n"
   ]
  },
  {
   "cell_type": "code",
   "execution_count": 25,
   "id": "60f1cf93",
   "metadata": {},
   "outputs": [],
   "source": [
    "#capturing the video\n",
    "cap=cv2.VideoCapture(1)\n",
    "\n",
    "#detecting the landmarks\n",
    "mphand=mp.solutions.hands\n",
    "hands=mphand.Hands(max_num_hands=1)\n",
    "mpDraw=mp.solutions.drawing_utils\n",
    "\n",
    "while True:\n",
    "    success, img=cap.read()\n",
    "    img=cv2.flip(img,1) \n",
    "    \n",
    "    #detecting hand/s using 21 points of reference, these reference points will be plotted on the hand\n",
    "    result=hands.process(img)\n",
    "    \n",
    "    if result.multi_hand_landmarks:\n",
    "        for handlms in result.multi_hand_landmarks:    #loop: handlms gives us the number of hands i.e. 1 hand, 2hands...\n",
    "            for id, lm in enumerate(handlms.landmark):    #loop: gives us individual reference point on each hand\n",
    "                cnt=0\n",
    "                h, w, c=img.shape                         #gives us the dimensions of the frame\n",
    "                cx, cy=int(lm.x*w), int(lm.y*h)           #give us the coordinates for the reference points\n",
    "                mpDraw.draw_landmarks(img, handlms, mphand.HAND_CONNECTIONS)\n",
    "                if id==0:\n",
    "                    wrist_x, wrist_y=cx, cy\n",
    "                elif id==4:\n",
    "                    thumb_tip_x, thumb_tip_y=cx, cy\n",
    "                elif id==2:\n",
    "                    thumb_pip_x, thumb_pip_y=cx, cy\n",
    "                elif id==8:\n",
    "                    index_tip_x, index_tip_y=cx, cy\n",
    "                elif id==6:\n",
    "                    index_pip_x, index_pip_y=cx, cy\n",
    "                elif id==12:\n",
    "                    middle_tip_x, middle_tip_y=cx, cy\n",
    "                elif id==10:\n",
    "                    middle_pip_x, middle_pip_y=cx, cy\n",
    "                elif id==16:\n",
    "                    ring_tip_x, ring_tip_y=cx, cy\n",
    "                elif id==14:\n",
    "                    ring_pip_x, ring_pip_y=cx, cy\n",
    "                elif id==20:\n",
    "                    pinky_tip_x, pinky_tip_y=cx, cy\n",
    "                elif id==18:\n",
    "                    pinky_pip_x, pinky_pip_y=cx, cy\n",
    "                fingerDetect(thumb_tip_x, thumb_tip_y, thumb_pip_x, thumb_pip_y, thumb)\n",
    "                fingerDetect(index_tip_x, index_tip_y, index_pip_x, index_pip_y, index)\n",
    "                fingerDetect(middle_tip_x, middle_tip_y, middle_pip_x, middle_pip_y, middle)\n",
    "                fingerDetect(ring_tip_x, ring_tip_y, ring_pip_x, ring_pip_y, ring)\n",
    "                fingerDetect(pinky_tip_x, pinky_tip_y, pinky_pip_x, pinky_pip_y, pinky)\n",
    "                j=60\n",
    "                for i in range(0, len(fingers)):\n",
    "                     cv2.putText(img, fingers[i], (20, 40+j), cv2.FONT_HERSHEY_PLAIN, 3, (0, 0, 255), 3)\n",
    "                     j+=40\n",
    "                fingers.clear()\n",
    "            #the above statement will actually plot the 21 reference points and their connections\n",
    "       \n",
    "    cv2.putText(img, \"Upright fingers: \"+str(cnt), (20, 40), cv2.FONT_HERSHEY_PLAIN, 3, (0, 0, 255), 3)\n",
    "    cv2.imshow(\"camera\", img)\n",
    "    cnt=0\n",
    "    if cv2.waitKey(1) & 0xFF==ord('q'):\n",
    "        cap.release()\n",
    "        cv2.destroyAllWindows()\n",
    "        break"
   ]
  }
 ],
 "metadata": {
  "kernelspec": {
   "name": "python3",
   "display_name": "Python 3.8.8 64-bit ('tensorflow': conda)"
  },
  "language_info": {
   "codemirror_mode": {
    "name": "ipython",
    "version": 3
   },
   "file_extension": ".py",
   "mimetype": "text/x-python",
   "name": "python",
   "nbconvert_exporter": "python",
   "pygments_lexer": "ipython3",
   "version": "3.8.8"
  },
  "interpreter": {
   "hash": "adbe46018c70e9352393b274d6b2480849c020eee9c0dc58b148aa8799071329"
  }
 },
 "nbformat": 4,
 "nbformat_minor": 5
}
